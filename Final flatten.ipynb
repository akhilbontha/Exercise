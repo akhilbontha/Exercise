{
 "cells": [
  {
   "cell_type": "code",
   "execution_count": 0,
   "metadata": {
    "application/vnd.databricks.v1+cell": {
     "cellMetadata": {
      "byteLimit": 2048000,
      "rowLimit": 10000
     },
     "inputWidgets": {},
     "nuid": "920b885f-9928-4e6a-86a2-0880e290121d",
     "showTitle": false,
     "title": ""
    }
   },
   "outputs": [
    {
     "output_type": "display_data",
     "data": {
      "text/html": [
       "<style scoped>\n",
       "  .table-result-container {\n",
       "    max-height: 300px;\n",
       "    overflow: auto;\n",
       "  }\n",
       "  table, th, td {\n",
       "    border: 1px solid black;\n",
       "    border-collapse: collapse;\n",
       "  }\n",
       "  th, td {\n",
       "    padding: 5px;\n",
       "  }\n",
       "  th {\n",
       "    text-align: left;\n",
       "  }\n",
       "</style><div class='table-result-container'><table class='table-result'><thead style='background-color: white'><tr><th>device_id</th><th>num_of_records</th><th>source</th><th>version</th><th>timestamp_key</th><th>SiteName</th><th>app</th><th>area</th><th>date</th><th>gps_alt</th><th>gps_fix</th><th>gps_lat</th><th>gps_lon</th><th>gps_num</th><th>name</th><th>s_d0</th><th>s_d1</th><th>s_d2</th><th>s_h0</th><th>s_t0</th><th>time</th><th>timestamp</th></tr></thead><tbody><tr><td>08BEAC0AB6D6</td><td>1625</td><td>history by IIS-NRL</td><td>2024-06-03T12:12:20Z</td><td>2024-06-05T06:58:22Z</td><td>英才路219</td><td>AirBox</td><td>taichuang</td><td>2024-06-05</td><td>2</td><td>1</td><td>24.15584</td><td>120.674313</td><td>9</td><td>英才路219</td><td>30</td><td>35</td><td>20</td><td>100</td><td>26.37</td><td>06:58:22</td><td>2024-06-05T06:58:22Z</td></tr><tr><td>08BEAC0AB6D6</td><td>1625</td><td>history by IIS-NRL</td><td>2024-06-03T12:12:20Z</td><td>2024-06-05T06:39:53Z</td><td>英才路219</td><td>AirBox</td><td>taichuang</td><td>2024-06-05</td><td>2</td><td>1</td><td>24.15584</td><td>120.674313</td><td>9</td><td>英才路219</td><td>33</td><td>40</td><td>21</td><td>100</td><td>26.37</td><td>06:39:53</td><td>2024-06-05T06:39:53Z</td></tr><tr><td>08BEAC0AB6D6</td><td>1625</td><td>history by IIS-NRL</td><td>2024-06-03T12:12:20Z</td><td>2024-06-05T05:50:33Z</td><td>英才路219</td><td>AirBox</td><td>taichuang</td><td>2024-06-05</td><td>2</td><td>1</td><td>24.15584</td><td>120.674313</td><td>9</td><td>英才路219</td><td>36</td><td>44</td><td>23</td><td>100</td><td>26.62</td><td>05:50:33</td><td>2024-06-05T05:50:33Z</td></tr><tr><td>08BEAC0AB6D6</td><td>1625</td><td>history by IIS-NRL</td><td>2024-06-03T12:12:20Z</td><td>2024-06-05T05:44:23Z</td><td>英才路219</td><td>AirBox</td><td>taichuang</td><td>2024-06-05</td><td>2</td><td>1</td><td>24.15584</td><td>120.674313</td><td>9</td><td>英才路219</td><td>31</td><td>36</td><td>20</td><td>100</td><td>26.62</td><td>05:44:23</td><td>2024-06-05T05:44:23Z</td></tr><tr><td>08BEAC0AB6D6</td><td>1625</td><td>history by IIS-NRL</td><td>2024-06-03T12:12:20Z</td><td>2024-06-05T06:09:04Z</td><td>英才路219</td><td>AirBox</td><td>taichuang</td><td>2024-06-05</td><td>2</td><td>1</td><td>24.15584</td><td>120.674313</td><td>9</td><td>英才路219</td><td>35</td><td>43</td><td>22</td><td>100</td><td>26.5</td><td>06:09:04</td><td>2024-06-05T06:09:04Z</td></tr><tr><td>08BEAC0AB6D6</td><td>1625</td><td>history by IIS-NRL</td><td>2024-06-03T12:12:20Z</td><td>2024-06-05T06:27:33Z</td><td>英才路219</td><td>AirBox</td><td>taichuang</td><td>2024-06-05</td><td>2</td><td>1</td><td>24.15584</td><td>120.674313</td><td>9</td><td>英才路219</td><td>33</td><td>40</td><td>21</td><td>100</td><td>26.5</td><td>06:27:33</td><td>2024-06-05T06:27:33Z</td></tr><tr><td>08BEAC0AB6D6</td><td>1625</td><td>history by IIS-NRL</td><td>2024-06-03T12:12:20Z</td><td>2024-06-05T05:38:14Z</td><td>英才路219</td><td>AirBox</td><td>taichuang</td><td>2024-06-05</td><td>2</td><td>1</td><td>24.15584</td><td>120.674313</td><td>9</td><td>英才路219</td><td>30</td><td>34</td><td>20</td><td>100</td><td>26.75</td><td>05:38:14</td><td>2024-06-05T05:38:14Z</td></tr><tr><td>08BEAC0AB6D6</td><td>1625</td><td>history by IIS-NRL</td><td>2024-06-03T12:12:20Z</td><td>2024-06-05T06:02:55Z</td><td>英才路219</td><td>AirBox</td><td>taichuang</td><td>2024-06-05</td><td>2</td><td>1</td><td>24.15584</td><td>120.674313</td><td>9</td><td>英才路219</td><td>35</td><td>43</td><td>22</td><td>100</td><td>26.62</td><td>06:02:55</td><td>2024-06-05T06:02:55Z</td></tr><tr><td>08BEAC0AB6D6</td><td>1625</td><td>history by IIS-NRL</td><td>2024-06-03T12:12:20Z</td><td>2024-06-05T06:33:43Z</td><td>英才路219</td><td>AirBox</td><td>taichuang</td><td>2024-06-05</td><td>2</td><td>1</td><td>24.15584</td><td>120.674313</td><td>9</td><td>英才路219</td><td>33</td><td>39</td><td>21</td><td>100</td><td>26.37</td><td>06:33:43</td><td>2024-06-05T06:33:43Z</td></tr><tr><td>08BEAC0AB6D6</td><td>1625</td><td>history by IIS-NRL</td><td>2024-06-03T12:12:20Z</td><td>2024-06-05T06:46:05Z</td><td>英才路219</td><td>AirBox</td><td>taichuang</td><td>2024-06-05</td><td>2</td><td>1</td><td>24.15584</td><td>120.674313</td><td>9</td><td>英才路219</td><td>32</td><td>37</td><td>20</td><td>100</td><td>26.37</td><td>06:46:05</td><td>2024-06-05T06:46:05Z</td></tr><tr><td>08BEAC0AB6D6</td><td>1625</td><td>history by IIS-NRL</td><td>2024-06-03T12:12:20Z</td><td>2024-06-05T05:56:44Z</td><td>英才路219</td><td>AirBox</td><td>taichuang</td><td>2024-06-05</td><td>2</td><td>1</td><td>24.15584</td><td>120.674313</td><td>9</td><td>英才路219</td><td>37</td><td>45</td><td>24</td><td>100</td><td>26.62</td><td>05:56:44</td><td>2024-06-05T05:56:44Z</td></tr><tr><td>08BEAC0AB6D6</td><td>1625</td><td>history by IIS-NRL</td><td>2024-06-03T12:12:20Z</td><td>2024-06-05T06:15:13Z</td><td>英才路219</td><td>AirBox</td><td>taichuang</td><td>2024-06-05</td><td>2</td><td>1</td><td>24.15584</td><td>120.674313</td><td>9</td><td>英才路219</td><td>34</td><td>40</td><td>22</td><td>100</td><td>26.5</td><td>06:15:13</td><td>2024-06-05T06:15:13Z</td></tr><tr><td>08BEAC0AB6D6</td><td>1625</td><td>history by IIS-NRL</td><td>2024-06-03T12:12:20Z</td><td>2024-06-05T06:52:13Z</td><td>英才路219</td><td>AirBox</td><td>taichuang</td><td>2024-06-05</td><td>2</td><td>1</td><td>24.15584</td><td>120.674313</td><td>9</td><td>英才路219</td><td>31</td><td>37</td><td>21</td><td>100</td><td>26.37</td><td>06:52:13</td><td>2024-06-05T06:52:13Z</td></tr><tr><td>08BEAC0AB6D6</td><td>1625</td><td>history by IIS-NRL</td><td>2024-06-03T12:12:20Z</td><td>2024-06-05T06:21:23Z</td><td>英才路219</td><td>AirBox</td><td>taichuang</td><td>2024-06-05</td><td>2</td><td>1</td><td>24.15584</td><td>120.674313</td><td>9</td><td>英才路219</td><td>34</td><td>41</td><td>22</td><td>100</td><td>26.5</td><td>06:21:23</td><td>2024-06-05T06:21:23Z</td></tr><tr><td>08BEAC0AB6D6</td><td>1625</td><td>history by IIS-NRL</td><td>2024-06-03T12:12:20Z</td><td>2024-06-05T05:32:05Z</td><td>英才路219</td><td>AirBox</td><td>taichuang</td><td>2024-06-05</td><td>2</td><td>1</td><td>24.15584</td><td>120.674313</td><td>9</td><td>英才路219</td><td>29</td><td>32</td><td>19</td><td>100</td><td>26.75</td><td>05:32:05</td><td>2024-06-05T05:32:05Z</td></tr><tr><td>08BEAC0AB6D6</td><td>1625</td><td>history by IIS-NRL</td><td>2024-06-03T12:12:20Z</td><td>2024-06-05T07:04:33Z</td><td>英才路219</td><td>AirBox</td><td>taichuang</td><td>2024-06-05</td><td>2</td><td>1</td><td>24.15584</td><td>120.674313</td><td>9</td><td>英才路219</td><td>30</td><td>34</td><td>19</td><td>100</td><td>26.5</td><td>07:04:33</td><td>2024-06-05T07:04:33Z</td></tr></tbody></table></div>"
      ]
     },
     "metadata": {
      "application/vnd.databricks.v1+output": {
       "addedWidgets": {},
       "aggData": [],
       "aggError": "",
       "aggOverflow": false,
       "aggSchema": [],
       "aggSeriesLimitReached": false,
       "aggType": "",
       "arguments": {},
       "columnCustomDisplayInfos": {},
       "data": [
        [
         "08BEAC0AB6D6",
         1625,
         "history by IIS-NRL",
         "2024-06-03T12:12:20Z",
         "2024-06-05T06:58:22Z",
         "英才路219",
         "AirBox",
         "taichuang",
         "2024-06-05",
         2,
         1,
         24.15584,
         120.674313,
         9,
         "英才路219",
         30,
         35,
         20,
         100,
         26.37,
         "06:58:22",
         "2024-06-05T06:58:22Z"
        ],
        [
         "08BEAC0AB6D6",
         1625,
         "history by IIS-NRL",
         "2024-06-03T12:12:20Z",
         "2024-06-05T06:39:53Z",
         "英才路219",
         "AirBox",
         "taichuang",
         "2024-06-05",
         2,
         1,
         24.15584,
         120.674313,
         9,
         "英才路219",
         33,
         40,
         21,
         100,
         26.37,
         "06:39:53",
         "2024-06-05T06:39:53Z"
        ],
        [
         "08BEAC0AB6D6",
         1625,
         "history by IIS-NRL",
         "2024-06-03T12:12:20Z",
         "2024-06-05T05:50:33Z",
         "英才路219",
         "AirBox",
         "taichuang",
         "2024-06-05",
         2,
         1,
         24.15584,
         120.674313,
         9,
         "英才路219",
         36,
         44,
         23,
         100,
         26.62,
         "05:50:33",
         "2024-06-05T05:50:33Z"
        ],
        [
         "08BEAC0AB6D6",
         1625,
         "history by IIS-NRL",
         "2024-06-03T12:12:20Z",
         "2024-06-05T05:44:23Z",
         "英才路219",
         "AirBox",
         "taichuang",
         "2024-06-05",
         2,
         1,
         24.15584,
         120.674313,
         9,
         "英才路219",
         31,
         36,
         20,
         100,
         26.62,
         "05:44:23",
         "2024-06-05T05:44:23Z"
        ],
        [
         "08BEAC0AB6D6",
         1625,
         "history by IIS-NRL",
         "2024-06-03T12:12:20Z",
         "2024-06-05T06:09:04Z",
         "英才路219",
         "AirBox",
         "taichuang",
         "2024-06-05",
         2,
         1,
         24.15584,
         120.674313,
         9,
         "英才路219",
         35,
         43,
         22,
         100,
         26.5,
         "06:09:04",
         "2024-06-05T06:09:04Z"
        ],
        [
         "08BEAC0AB6D6",
         1625,
         "history by IIS-NRL",
         "2024-06-03T12:12:20Z",
         "2024-06-05T06:27:33Z",
         "英才路219",
         "AirBox",
         "taichuang",
         "2024-06-05",
         2,
         1,
         24.15584,
         120.674313,
         9,
         "英才路219",
         33,
         40,
         21,
         100,
         26.5,
         "06:27:33",
         "2024-06-05T06:27:33Z"
        ],
        [
         "08BEAC0AB6D6",
         1625,
         "history by IIS-NRL",
         "2024-06-03T12:12:20Z",
         "2024-06-05T05:38:14Z",
         "英才路219",
         "AirBox",
         "taichuang",
         "2024-06-05",
         2,
         1,
         24.15584,
         120.674313,
         9,
         "英才路219",
         30,
         34,
         20,
         100,
         26.75,
         "05:38:14",
         "2024-06-05T05:38:14Z"
        ],
        [
         "08BEAC0AB6D6",
         1625,
         "history by IIS-NRL",
         "2024-06-03T12:12:20Z",
         "2024-06-05T06:02:55Z",
         "英才路219",
         "AirBox",
         "taichuang",
         "2024-06-05",
         2,
         1,
         24.15584,
         120.674313,
         9,
         "英才路219",
         35,
         43,
         22,
         100,
         26.62,
         "06:02:55",
         "2024-06-05T06:02:55Z"
        ],
        [
         "08BEAC0AB6D6",
         1625,
         "history by IIS-NRL",
         "2024-06-03T12:12:20Z",
         "2024-06-05T06:33:43Z",
         "英才路219",
         "AirBox",
         "taichuang",
         "2024-06-05",
         2,
         1,
         24.15584,
         120.674313,
         9,
         "英才路219",
         33,
         39,
         21,
         100,
         26.37,
         "06:33:43",
         "2024-06-05T06:33:43Z"
        ],
        [
         "08BEAC0AB6D6",
         1625,
         "history by IIS-NRL",
         "2024-06-03T12:12:20Z",
         "2024-06-05T06:46:05Z",
         "英才路219",
         "AirBox",
         "taichuang",
         "2024-06-05",
         2,
         1,
         24.15584,
         120.674313,
         9,
         "英才路219",
         32,
         37,
         20,
         100,
         26.37,
         "06:46:05",
         "2024-06-05T06:46:05Z"
        ],
        [
         "08BEAC0AB6D6",
         1625,
         "history by IIS-NRL",
         "2024-06-03T12:12:20Z",
         "2024-06-05T05:56:44Z",
         "英才路219",
         "AirBox",
         "taichuang",
         "2024-06-05",
         2,
         1,
         24.15584,
         120.674313,
         9,
         "英才路219",
         37,
         45,
         24,
         100,
         26.62,
         "05:56:44",
         "2024-06-05T05:56:44Z"
        ],
        [
         "08BEAC0AB6D6",
         1625,
         "history by IIS-NRL",
         "2024-06-03T12:12:20Z",
         "2024-06-05T06:15:13Z",
         "英才路219",
         "AirBox",
         "taichuang",
         "2024-06-05",
         2,
         1,
         24.15584,
         120.674313,
         9,
         "英才路219",
         34,
         40,
         22,
         100,
         26.5,
         "06:15:13",
         "2024-06-05T06:15:13Z"
        ],
        [
         "08BEAC0AB6D6",
         1625,
         "history by IIS-NRL",
         "2024-06-03T12:12:20Z",
         "2024-06-05T06:52:13Z",
         "英才路219",
         "AirBox",
         "taichuang",
         "2024-06-05",
         2,
         1,
         24.15584,
         120.674313,
         9,
         "英才路219",
         31,
         37,
         21,
         100,
         26.37,
         "06:52:13",
         "2024-06-05T06:52:13Z"
        ],
        [
         "08BEAC0AB6D6",
         1625,
         "history by IIS-NRL",
         "2024-06-03T12:12:20Z",
         "2024-06-05T06:21:23Z",
         "英才路219",
         "AirBox",
         "taichuang",
         "2024-06-05",
         2,
         1,
         24.15584,
         120.674313,
         9,
         "英才路219",
         34,
         41,
         22,
         100,
         26.5,
         "06:21:23",
         "2024-06-05T06:21:23Z"
        ],
        [
         "08BEAC0AB6D6",
         1625,
         "history by IIS-NRL",
         "2024-06-03T12:12:20Z",
         "2024-06-05T05:32:05Z",
         "英才路219",
         "AirBox",
         "taichuang",
         "2024-06-05",
         2,
         1,
         24.15584,
         120.674313,
         9,
         "英才路219",
         29,
         32,
         19,
         100,
         26.75,
         "05:32:05",
         "2024-06-05T05:32:05Z"
        ],
        [
         "08BEAC0AB6D6",
         1625,
         "history by IIS-NRL",
         "2024-06-03T12:12:20Z",
         "2024-06-05T07:04:33Z",
         "英才路219",
         "AirBox",
         "taichuang",
         "2024-06-05",
         2,
         1,
         24.15584,
         120.674313,
         9,
         "英才路219",
         30,
         34,
         19,
         100,
         26.5,
         "07:04:33",
         "2024-06-05T07:04:33Z"
        ]
       ],
       "datasetInfos": [],
       "dbfsResultPath": null,
       "isJsonSchema": true,
       "metadata": {},
       "overflow": false,
       "plotOptions": {
        "customPlotOptions": {},
        "displayType": "table",
        "pivotAggregation": null,
        "pivotColumns": null,
        "xColumns": null,
        "yColumns": null
       },
       "removedWidgets": [],
       "schema": [
        {
         "metadata": "{}",
         "name": "device_id",
         "type": "\"string\""
        },
        {
         "metadata": "{}",
         "name": "num_of_records",
         "type": "\"long\""
        },
        {
         "metadata": "{}",
         "name": "source",
         "type": "\"string\""
        },
        {
         "metadata": "{}",
         "name": "version",
         "type": "\"string\""
        },
        {
         "metadata": "{}",
         "name": "timestamp_key",
         "type": "\"string\""
        },
        {
         "metadata": "{}",
         "name": "SiteName",
         "type": "\"string\""
        },
        {
         "metadata": "{}",
         "name": "app",
         "type": "\"string\""
        },
        {
         "metadata": "{}",
         "name": "area",
         "type": "\"string\""
        },
        {
         "metadata": "{}",
         "name": "date",
         "type": "\"string\""
        },
        {
         "metadata": "{}",
         "name": "gps_alt",
         "type": "\"long\""
        },
        {
         "metadata": "{}",
         "name": "gps_fix",
         "type": "\"long\""
        },
        {
         "metadata": "{}",
         "name": "gps_lat",
         "type": "\"double\""
        },
        {
         "metadata": "{}",
         "name": "gps_lon",
         "type": "\"double\""
        },
        {
         "metadata": "{}",
         "name": "gps_num",
         "type": "\"long\""
        },
        {
         "metadata": "{}",
         "name": "name",
         "type": "\"string\""
        },
        {
         "metadata": "{}",
         "name": "s_d0",
         "type": "\"long\""
        },
        {
         "metadata": "{}",
         "name": "s_d1",
         "type": "\"long\""
        },
        {
         "metadata": "{}",
         "name": "s_d2",
         "type": "\"long\""
        },
        {
         "metadata": "{}",
         "name": "s_h0",
         "type": "\"long\""
        },
        {
         "metadata": "{}",
         "name": "s_t0",
         "type": "\"double\""
        },
        {
         "metadata": "{}",
         "name": "time",
         "type": "\"string\""
        },
        {
         "metadata": "{}",
         "name": "timestamp",
         "type": "\"string\""
        }
       ],
       "type": "table"
      }
     },
     "output_type": "display_data"
    },
    {
     "output_type": "display_data",
     "data": {
      "text/html": [
       "<style scoped>\n",
       "  .table-result-container {\n",
       "    max-height: 300px;\n",
       "    overflow: auto;\n",
       "  }\n",
       "  table, th, td {\n",
       "    border: 1px solid black;\n",
       "    border-collapse: collapse;\n",
       "  }\n",
       "  th, td {\n",
       "    padding: 5px;\n",
       "  }\n",
       "  th {\n",
       "    text-align: left;\n",
       "  }\n",
       "</style><div class='table-result-container'><table class='table-result'><thead style='background-color: white'><tr><th>date</th><th>timestamp</th><th>s_d0</th></tr></thead><tbody><tr><td>2024-06-05</td><td>2024-06-05T06:39:53Z</td><td>33</td></tr><tr><td>2024-06-05</td><td>2024-06-05T05:50:33Z</td><td>36</td></tr><tr><td>2024-06-05</td><td>2024-06-05T05:44:23Z</td><td>31</td></tr><tr><td>2024-06-05</td><td>2024-06-05T06:09:04Z</td><td>35</td></tr><tr><td>2024-06-05</td><td>2024-06-05T06:27:33Z</td><td>33</td></tr><tr><td>2024-06-05</td><td>2024-06-05T06:02:55Z</td><td>35</td></tr><tr><td>2024-06-05</td><td>2024-06-05T06:33:43Z</td><td>33</td></tr><tr><td>2024-06-05</td><td>2024-06-05T06:46:05Z</td><td>32</td></tr><tr><td>2024-06-05</td><td>2024-06-05T05:56:44Z</td><td>37</td></tr><tr><td>2024-06-05</td><td>2024-06-05T06:15:13Z</td><td>34</td></tr><tr><td>2024-06-05</td><td>2024-06-05T06:52:13Z</td><td>31</td></tr><tr><td>2024-06-05</td><td>2024-06-05T06:21:23Z</td><td>34</td></tr></tbody></table></div>"
      ]
     },
     "metadata": {
      "application/vnd.databricks.v1+output": {
       "addedWidgets": {},
       "aggData": [],
       "aggError": "",
       "aggOverflow": false,
       "aggSchema": [],
       "aggSeriesLimitReached": false,
       "aggType": "",
       "arguments": {},
       "columnCustomDisplayInfos": {},
       "data": [
        [
         "2024-06-05",
         "2024-06-05T06:39:53Z",
         33
        ],
        [
         "2024-06-05",
         "2024-06-05T05:50:33Z",
         36
        ],
        [
         "2024-06-05",
         "2024-06-05T05:44:23Z",
         31
        ],
        [
         "2024-06-05",
         "2024-06-05T06:09:04Z",
         35
        ],
        [
         "2024-06-05",
         "2024-06-05T06:27:33Z",
         33
        ],
        [
         "2024-06-05",
         "2024-06-05T06:02:55Z",
         35
        ],
        [
         "2024-06-05",
         "2024-06-05T06:33:43Z",
         33
        ],
        [
         "2024-06-05",
         "2024-06-05T06:46:05Z",
         32
        ],
        [
         "2024-06-05",
         "2024-06-05T05:56:44Z",
         37
        ],
        [
         "2024-06-05",
         "2024-06-05T06:15:13Z",
         34
        ],
        [
         "2024-06-05",
         "2024-06-05T06:52:13Z",
         31
        ],
        [
         "2024-06-05",
         "2024-06-05T06:21:23Z",
         34
        ]
       ],
       "datasetInfos": [],
       "dbfsResultPath": null,
       "isJsonSchema": true,
       "metadata": {},
       "overflow": false,
       "plotOptions": {
        "customPlotOptions": {},
        "displayType": "table",
        "pivotAggregation": null,
        "pivotColumns": null,
        "xColumns": null,
        "yColumns": null
       },
       "removedWidgets": [],
       "schema": [
        {
         "metadata": "{}",
         "name": "date",
         "type": "\"string\""
        },
        {
         "metadata": "{}",
         "name": "timestamp",
         "type": "\"string\""
        },
        {
         "metadata": "{}",
         "name": "s_d0",
         "type": "\"long\""
        }
       ],
       "type": "table"
      }
     },
     "output_type": "display_data"
    },
    {
     "output_type": "stream",
     "name": "stdout",
     "output_type": "stream",
     "text": [
      "Times when PM2.5 level went above the threshold of 30:\nTimestamp: 2024-06-05T06:39:53Z, PM2.5 Level: 33\nTimestamp: 2024-06-05T05:50:33Z, PM2.5 Level: 36\nTimestamp: 2024-06-05T05:44:23Z, PM2.5 Level: 31\nTimestamp: 2024-06-05T06:09:04Z, PM2.5 Level: 35\nTimestamp: 2024-06-05T06:27:33Z, PM2.5 Level: 33\nTimestamp: 2024-06-05T06:02:55Z, PM2.5 Level: 35\nTimestamp: 2024-06-05T06:33:43Z, PM2.5 Level: 33\nTimestamp: 2024-06-05T06:46:05Z, PM2.5 Level: 32\nTimestamp: 2024-06-05T05:56:44Z, PM2.5 Level: 37\nTimestamp: 2024-06-05T06:15:13Z, PM2.5 Level: 34\nTimestamp: 2024-06-05T06:52:13Z, PM2.5 Level: 31\nTimestamp: 2024-06-05T06:21:23Z, PM2.5 Level: 34\n\nDaily PM2.5 Statistics:\nDate       | Daily Max | Daily Min | Daily Avg\n2024-06-05 | 37     | 29     | 32.69\n"
     ]
    }
   ],
   "source": [
    "from pyspark.sql import SparkSession\n",
    "from pyspark.sql.functions import *\n",
    "from pyspark.sql.types import *\n",
    "import requests\n",
    "\n",
    "# Create a SparkSession\n",
    "spark = SparkSession.builder \\\n",
    "    .appName(\"Fetch Schema from API\") \\\n",
    "    .getOrCreate()\n",
    "\n",
    "# Load JSON data into PySpark DataFrame\n",
    "df = spark.read.option(\"multiline\",\"true\").option(\"inferschema\", \"true\").json(\"/FileStore/tables/jsonformatter__3___MConverter_eu___1_.json\")\n",
    "\n",
    "\n",
    "df1 = df.select(\"*\",explode_outer(\"feeds\").alias(\"new_feeds\")).select(\"*\",explode_outer(\"new_feeds.AirBox\").alias(\"new_AirBox\")).drop(\"new_feeds.AirBox\").drop(\"feeds\").drop(\"new_feeds\")\n",
    "\n",
    "df_1 = df1.select(\"device_id\",\"num_of_records\",\"source\",\"version\")\n",
    "\n",
    "\n",
    "df2 = df1.select(\"new_AirBox.*\")\n",
    "\n",
    "# Extract the dynamic timestamp keys\n",
    "keys = df2.schema.fieldNames()\n",
    "\n",
    "# Flatten the nested structure\n",
    "flattened_df = df2.selectExpr(\"inline(array(\" + \",\".join([f\"struct('{k}' as timestamp_key, `{k}`.*)\" for k in keys]) + \"))\")\n",
    "\n",
    "flattened_df1 = flattened_df.dropna(subset=['Date','time'])\n",
    "\n",
    "# Show the resulting flattened DataFrame\n",
    "\n",
    "df_inner = df_1.join(flattened_df1, on=\"device_id\", how=\"inner\").dropDuplicates()\n",
    "\n",
    "display(df_inner)\n",
    "\n",
    "\n",
    "# Filter where s_d0 (PM2.5) is greater than 30\n",
    "#df_filtered = df_inner.filter(col(\"s_d0\") > 30)\n",
    "\n",
    "# Filter the DataFrame where s_d0 (PM2.5 level) is greater than 30\n",
    "df_filtered = df_inner.filter(col(\"s_d0\") > 30).select(\"date\",\"timestamp\", \"s_d0\")\n",
    "display(df_filtered)\n",
    "\n",
    "# Extract date from timestamp for daily statistics\n",
    "df = df_inner.withColumn(\"date\", date_format(col(\"timestamp\"), \"yyyy-MM-dd\"))\n",
    "\n",
    "# Compute daily maximum, minimum, and average pollution values\n",
    "daily_stats = df.groupBy(\"date\").agg(\n",
    "    max(\"s_d0\").alias(\"daily_max\"),\n",
    "    min(\"s_d0\").alias(\"daily_min\"),\n",
    "    avg(\"s_d0\").alias(\"daily_avg\")\n",
    ")\n",
    "\n",
    "# Collect the filtered times and daily statistics\n",
    "times_above_threshold = df_filtered.collect()\n",
    "daily_stats_report = daily_stats.collect()\n",
    "\n",
    "# Display the results\n",
    "print(\"Times when PM2.5 level went above the threshold of 30:\")\n",
    "for row in times_above_threshold:\n",
    "    print(f\"Timestamp: {row['timestamp']}, PM2.5 Level: {row['s_d0']}\")\n",
    "\n",
    "print(\"\\nDaily PM2.5 Statistics:\")\n",
    "print(\"Date       | Daily Max | Daily Min | Daily Avg\")\n",
    "for row in daily_stats_report:\n",
    "    print(f\"{row['date']} | {row['daily_max']}     | {row['daily_min']}     | {row['daily_avg']:.2f}\")"
   ]
  }
 ],
 "metadata": {
  "application/vnd.databricks.v1+notebook": {
   "dashboards": [],
   "environmentMetadata": null,
   "language": "python",
   "notebookMetadata": {
    "pythonIndentUnit": 4
   },
   "notebookName": "Final flatten",
   "widgets": {}
  }
 },
 "nbformat": 4,
 "nbformat_minor": 0
}
